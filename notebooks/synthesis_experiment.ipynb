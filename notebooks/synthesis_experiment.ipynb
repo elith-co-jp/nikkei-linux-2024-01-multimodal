{
 "cells": [
  {
   "cell_type": "code",
   "execution_count": null,
   "metadata": {},
   "outputs": [],
   "source": [
    "import cv2\n",
    "import numpy as np\n",
    "import matplotlib.pyplot as plt\n",
    "from PIL import Image\n",
    "\n",
    "from multimodal_sft.utils import blend_sign, detect_shape, blend_polygon\n",
    "\n",
    "\n",
    "bg_img = cv2.imread(\"bg_test.jpg\")\n",
    "sign_img = cv2.imread(\"../data/road_signs/327_2.png\", -1)\n",
    "\n",
    "annotation = \"0 0.24485368314833503 0.13600274725274725 0.1556710393541877 0.20267857142857146\"\n",
    "annotation = list(map(float, annotation.split()))\n",
    "\n",
    "result = blend_sign(bg_img, sign_img, annotation)\n",
    "result = cv2.cvtColor(result, cv2.COLOR_BGR2RGB)\n",
    "display(Image.fromarray(result))"
   ]
  },
  {
   "cell_type": "code",
   "execution_count": null,
   "metadata": {},
   "outputs": [],
   "source": [
    "bg_img = cv2.imread(\"bg_test.jpg\")\n",
    "sign_img = cv2.imread(\"../data/road_signs/327_2.png\", -1)\n",
    "\n",
    "annotation = \"0 0.24485368314833503 0.13600274725274725 0.1556710393541877 0.20267857142857146\"\n",
    "annotation = list(map(float, annotation.split()))\n",
    "segment = np.load(\"segment_test.npy\")\n",
    "\n",
    "shape, area = detect_shape(segment.astype(np.uint8))\n",
    "sign_bin = (sign_img[:, :, 3] > 0).astype(np.uint8)\n",
    "shape_sign, area_sign = detect_shape(sign_bin)"
   ]
  },
  {
   "cell_type": "code",
   "execution_count": null,
   "metadata": {},
   "outputs": [],
   "source": [
    "img = blend_polygon(bg_img, sign_img, area, area_sign, annotation)\n",
    "Image.fromarray(cv2.cvtColor(img, cv2.COLOR_BGR2RGB))"
   ]
  },
  {
   "cell_type": "code",
   "execution_count": null,
   "metadata": {},
   "outputs": [],
   "source": []
  }
 ],
 "metadata": {
  "kernelspec": {
   "display_name": ".venv",
   "language": "python",
   "name": "python3"
  },
  "language_info": {
   "codemirror_mode": {
    "name": "ipython",
    "version": 3
   },
   "file_extension": ".py",
   "mimetype": "text/x-python",
   "name": "python",
   "nbconvert_exporter": "python",
   "pygments_lexer": "ipython3",
   "version": "3.11.3"
  }
 },
 "nbformat": 4,
 "nbformat_minor": 2
}
