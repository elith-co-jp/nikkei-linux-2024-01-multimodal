{
 "cells": [
  {
   "cell_type": "code",
   "execution_count": null,
   "metadata": {},
   "outputs": [],
   "source": [
    "import cv2\n",
    "import numpy as np\n",
    "import matplotlib.pyplot as plt\n",
    "from PIL import Image\n",
    "from pathlib import Path\n",
    "import pandas as pd\n",
    "\n",
    "from multimodal_sft.utils import blend_sign, detect_shape, blend_polygon\n",
    "\n",
    "sign_path = Path(\"../data/road_signs/\")\n",
    "train_path = Path(\"../data/train\")\n",
    "\n",
    "df = pd.read_csv(\"../data/shape.csv\", header=None, names=[\"name\", \"shape\", \"color\"])"
   ]
  },
  {
   "cell_type": "code",
   "execution_count": null,
   "metadata": {},
   "outputs": [],
   "source": [
    "for j, path in enumerate((train_path/\"images\").glob(\"*.jpg\")):\n",
    "    img = cv2.imread(str(path))\n",
    "    img = cv2.cvtColor(img, cv2.COLOR_BGR2RGB)\n",
    "    height, width, _ = img.shape\n",
    "    with open(train_path/\"labels\"/(path.stem+\".txt\")) as f:\n",
    "        for i, line in enumerate(f):\n",
    "            annotation = list(map(float, line.split()))\n",
    "            _, x, y, w, h = annotation\n",
    "            x0, y0 = int(x * width), int(y * height)\n",
    "            segment = np.load(train_path/\"segmentations\"/(path.stem+f\"_{i}.npy\"))\n",
    "            h, w = segment.shape\n",
    "            color = np.sum(img[y0:y0+h, x0:x0+w] * segment[..., np.newaxis], axis=(0, 1)) / np.sum(segment)\n",
    "            dominant_color = \"rgb\"[color.argmax()]\n",
    "            shape, area = detect_shape(segment.astype(np.uint8))\n",
    "            if shape == \"others\":\n",
    "                continue\n",
    "            # 色と形が一致するサインを抽出\n",
    "            sign_candidates = df[(df[\"shape\"] == shape) & (df[\"color\"] == dominant_color)][\"name\"].values\n",
    "            if len(sign_candidates) == 0:\n",
    "                continue\n",
    "            # randomly select a sign\n",
    "            sign_name = np.random.choice(sign_candidates)\n",
    "            img_sign = cv2.imread(str(sign_path/f\"{sign_name}.png\"), -1)\n",
    "            img_sign = cv2.cvtColor(img_sign, cv2.COLOR_BGRA2RGBA)\n",
    "            img_sign_bin = (img_sign[:, :, 3] > 0).astype(np.uint8)\n",
    "            _, area_sign = detect_shape(img_sign_bin)\n",
    "            if shape == \"circle\":\n",
    "                img = blend_sign(img, img_sign, annotation)\n",
    "            else:\n",
    "                img = blend_polygon(img, img_sign, area, area_sign, annotation)\n",
    "            display(Image.fromarray(img))\n",
    "    if j > 20:\n",
    "        break"
   ]
  },
  {
   "cell_type": "code",
   "execution_count": null,
   "metadata": {},
   "outputs": [],
   "source": []
  },
  {
   "cell_type": "code",
   "execution_count": null,
   "metadata": {},
   "outputs": [],
   "source": []
  }
 ],
 "metadata": {
  "kernelspec": {
   "display_name": ".venv",
   "language": "python",
   "name": "python3"
  },
  "language_info": {
   "codemirror_mode": {
    "name": "ipython",
    "version": 3
   },
   "file_extension": ".py",
   "mimetype": "text/x-python",
   "name": "python",
   "nbconvert_exporter": "python",
   "pygments_lexer": "ipython3",
   "version": "3.11.3"
  }
 },
 "nbformat": 4,
 "nbformat_minor": 2
}
